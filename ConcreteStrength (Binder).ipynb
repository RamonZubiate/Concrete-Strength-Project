{
 "cells": [
  {
   "cell_type": "markdown",
   "id": "524d4082",
   "metadata": {},
   "source": [
    "# Concrete Strength Final Project User Interface (version 1.0)\n",
    "## Ramon Zubiate, Ramy Gerges, Roberto Cortez"
   ]
  },
  {
   "cell_type": "markdown",
   "id": "ee0c2c3e",
   "metadata": {},
   "source": [
    "### In this notebook, we present data analysis and programming capability using Python. "
   ]
  },
  {
   "cell_type": "code",
   "execution_count": 1,
   "id": "4e436e36",
   "metadata": {},
   "outputs": [],
   "source": [
    "#imports\n",
    "\n",
    "import numpy as np\n",
    "import pandas as pd\n",
    "import matplotlib.pyplot as plt \n",
    "import seaborn as sns\n",
    "\n",
    "\n",
    "concrete = pd.read_excel('concreteData.xls')"
   ]
  },
  {
   "cell_type": "code",
   "execution_count": 2,
   "id": "cdbe69e1",
   "metadata": {},
   "outputs": [],
   "source": [
    "#rename concrete dataframe to approppriate column names\n",
    "\n",
    "old_concrete_df = concrete #store old here just in case\n",
    "\n",
    "col_names = [\"Cement\", \"BlastFurnaceSlag\", \"FlyAsh\", \"Water\", \"Superplasticizer\",\n",
    "                 \"CoarseAggregate\", \"FineAggregate\", \"Age\", \"CC_Strength\"]\n",
    "\n",
    "new_col_names = list(concrete.columns)\n",
    "\n",
    "mapper = {}\n",
    "\n",
    "for i, name in enumerate(new_col_names):\n",
    "    mapper[name] = col_names[i]\n",
    "\n",
    "concrete = concrete.rename(columns=mapper)\n"
   ]
  },
  {
   "cell_type": "code",
   "execution_count": 3,
   "id": "b0e8fe29",
   "metadata": {},
   "outputs": [],
   "source": [
    "# Now we need to check for missing values\n",
    "\n",
    "missing_values = concrete.isnull().sum()\n",
    "\n",
    "missing_values_count = concrete.isnull().sum().sum()\n",
    "\n"
   ]
  },
  {
   "cell_type": "code",
   "execution_count": 4,
   "id": "85376cbf",
   "metadata": {},
   "outputs": [
    {
     "name": "stderr",
     "output_type": "stream",
     "text": [
      "Enabling notebook extension jupyter-js-widgets/extension...\n",
      "      - Validating: ok\n",
      "Enabling: voila\n",
      "- Writing config: C:\\Users\\ramon\\anaconda3\\envs\\Project\\etc\\jupyter\n",
      "    - Validating...\n",
      "      voila 0.4.0 ok\n"
     ]
    }
   ],
   "source": [
    "#run this once and then comment out to get rid of the warning below\n",
    "import warnings\n",
    "warnings.simplefilter(action='ignore', category=FutureWarning)\n",
    "\n",
    "!jupyter nbextension enable --py widgetsnbextension \n",
    "!jupyter serverextension enable voila --sys-prefix"
   ]
  },
  {
   "cell_type": "code",
   "execution_count": 5,
   "id": "55e029d9",
   "metadata": {},
   "outputs": [],
   "source": [
    "#Linear Regression user defined inputs\n",
    "from sklearn.linear_model import LinearRegression\n",
    "from sklearn.model_selection import train_test_split\n",
    "from sklearn.metrics import mean_squared_error\n",
    "\n",
    "def lr_predict_strength(cement, blast, fly, water, superplasticizer, coarse_agg, fine_agg, age):\n",
    "    # Create a dataframe with user inputs\n",
    "    input_df = pd.DataFrame({\n",
    "        'Cement': [cement],\n",
    "        'BlastFurnaceSlag': [blast],\n",
    "        'FlyAsh': [fly],\n",
    "        'Water': [water],\n",
    "        'Superplasticizer': [superplasticizer],\n",
    "        'CoarseAggregate': [coarse_agg],\n",
    "        'FineAggregate': [fine_agg],\n",
    "        'Age': [age]\n",
    "    })\n",
    "    # Train a linear regression model on the concrete dataset\n",
    "    X = concrete.drop('CC_Strength', axis=1)\n",
    "    y = concrete['CC_Strength']\n",
    "    model = LinearRegression()\n",
    "    model.fit(X, y)\n",
    "    # Predict the compressive strength using the user inputs\n",
    "    predicted_strength = model.predict(input_df)\n",
    "    return predicted_strength[0]"
   ]
  },
  {
   "cell_type": "code",
   "execution_count": 6,
   "id": "53a67715",
   "metadata": {},
   "outputs": [],
   "source": [
    "#Decision Tree Regressor with user defined inputs\n",
    "\n",
    "from sklearn.tree import DecisionTreeRegressor\n",
    "from sklearn.model_selection import train_test_split\n",
    "from sklearn.metrics import mean_squared_error\n",
    "\n",
    "def dt_predict_strength(cement, blast, fly, water, superplasticizer, coarse_agg, fine_agg, age):\n",
    "    # Create a dataframe with user inputs\n",
    "    input_df = pd.DataFrame({\n",
    "        'Cement': [cement],\n",
    "        'BlastFurnaceSlag': [blast],\n",
    "        'FlyAsh': [fly],\n",
    "        'Water': [water],\n",
    "        'Superplasticizer': [superplasticizer],\n",
    "        'CoarseAggregate': [coarse_agg],\n",
    "        'FineAggregate': [fine_agg],\n",
    "        'Age': [age]\n",
    "    })\n",
    "    # Train a decision tree model on the concrete dataset\n",
    "    X = concrete.drop('CC_Strength', axis=1)\n",
    "    y = concrete['CC_Strength']\n",
    "    model = DecisionTreeRegressor(random_state=42)\n",
    "    model.fit(X, y)\n",
    "    # Predict the compressive strength using the user inputs\n",
    "    predicted_strength = model.predict(input_df)\n",
    "    return predicted_strength[0]"
   ]
  },
  {
   "cell_type": "code",
   "execution_count": 7,
   "id": "563fb4a0",
   "metadata": {},
   "outputs": [],
   "source": [
    "#Random Forests\n",
    "\n",
    "from sklearn.ensemble import RandomForestRegressor\n",
    "\n",
    "def rf_predict_strength(cement, blast, fly, water, superplasticizer, coarse_agg, fine_agg, age):\n",
    "    # Create a dataframe with user inputs\n",
    "    input_df = pd.DataFrame({\n",
    "        'Cement': [cement],\n",
    "        'BlastFurnaceSlag': [blast],\n",
    "        'FlyAsh': [fly],\n",
    "        'Water': [water],\n",
    "        'Superplasticizer': [superplasticizer],\n",
    "        'CoarseAggregate': [coarse_agg],\n",
    "        'FineAggregate': [fine_agg],\n",
    "        'Age': [age]\n",
    "    })\n",
    "    \n",
    "    # Train a random forest model on the concrete dataset\n",
    "    X = concrete.drop('CC_Strength', axis=1)\n",
    "    y = concrete['CC_Strength']\n",
    "    model = RandomForestRegressor(random_state=42)\n",
    "    model.fit(X, y)\n",
    "    \n",
    "    # Predict the compressive strength using the user inputs\n",
    "    predicted_strength = model.predict(input_df)\n",
    "    \n",
    "    return predicted_strength[0]"
   ]
  },
  {
   "cell_type": "code",
   "execution_count": 8,
   "id": "5d33770c",
   "metadata": {},
   "outputs": [
    {
     "data": {
      "application/vnd.jupyter.widget-view+json": {
       "model_id": "f663c91b3bbb404d8551cb725348dd9f",
       "version_major": 2,
       "version_minor": 0
      },
      "text/plain": [
       "FloatText(value=0.0, description='Cement')"
      ]
     },
     "metadata": {},
     "output_type": "display_data"
    },
    {
     "data": {
      "application/vnd.jupyter.widget-view+json": {
       "model_id": "08a8153026b0479f869a0586fdf3b45f",
       "version_major": 2,
       "version_minor": 0
      },
      "text/plain": [
       "FloatText(value=0.0, description='Blast Furnace Slag')"
      ]
     },
     "metadata": {},
     "output_type": "display_data"
    },
    {
     "data": {
      "application/vnd.jupyter.widget-view+json": {
       "model_id": "73f9daaff9b34b129f1d963390727231",
       "version_major": 2,
       "version_minor": 0
      },
      "text/plain": [
       "FloatText(value=0.0, description='Fly Ash')"
      ]
     },
     "metadata": {},
     "output_type": "display_data"
    },
    {
     "data": {
      "application/vnd.jupyter.widget-view+json": {
       "model_id": "3e7a8eb4dda44e90bfae92bd2d01b546",
       "version_major": 2,
       "version_minor": 0
      },
      "text/plain": [
       "FloatText(value=0.0, description='Water')"
      ]
     },
     "metadata": {},
     "output_type": "display_data"
    },
    {
     "data": {
      "application/vnd.jupyter.widget-view+json": {
       "model_id": "6bebf0afa96b4056bd2de7b1f658101a",
       "version_major": 2,
       "version_minor": 0
      },
      "text/plain": [
       "FloatText(value=0.0, description='Superplasticizer')"
      ]
     },
     "metadata": {},
     "output_type": "display_data"
    },
    {
     "data": {
      "application/vnd.jupyter.widget-view+json": {
       "model_id": "5f17d2ef49f145e6900e61e453b1cd83",
       "version_major": 2,
       "version_minor": 0
      },
      "text/plain": [
       "FloatText(value=0.0, description='Coarse Aggregate')"
      ]
     },
     "metadata": {},
     "output_type": "display_data"
    },
    {
     "data": {
      "application/vnd.jupyter.widget-view+json": {
       "model_id": "7133ca0df94f49a29015e3aab0089221",
       "version_major": 2,
       "version_minor": 0
      },
      "text/plain": [
       "FloatText(value=0.0, description='Fine Aggregate')"
      ]
     },
     "metadata": {},
     "output_type": "display_data"
    },
    {
     "data": {
      "application/vnd.jupyter.widget-view+json": {
       "model_id": "631eb5b04f804f51a1596724e7256c5f",
       "version_major": 2,
       "version_minor": 0
      },
      "text/plain": [
       "FloatText(value=0.0, description='Age')"
      ]
     },
     "metadata": {},
     "output_type": "display_data"
    },
    {
     "data": {
      "application/vnd.jupyter.widget-view+json": {
       "model_id": "61f6bb2312c046a797fbc8e0309a68ba",
       "version_major": 2,
       "version_minor": 0
      },
      "text/plain": [
       "ToggleButtons(description='Model:', options=('Linear Regression', 'Decision Trees', 'Random Forest'), value='L…"
      ]
     },
     "metadata": {},
     "output_type": "display_data"
    },
    {
     "data": {
      "application/vnd.jupyter.widget-view+json": {
       "model_id": "5dd447fcb0a9491fbf26e0b790744c2e",
       "version_major": 2,
       "version_minor": 0
      },
      "text/plain": [
       "Button(description='Predict', style=ButtonStyle())"
      ]
     },
     "metadata": {},
     "output_type": "display_data"
    },
    {
     "data": {
      "application/vnd.jupyter.widget-view+json": {
       "model_id": "7c38e595444c41ab928fb9bf9c13c1f8",
       "version_major": 2,
       "version_minor": 0
      },
      "text/plain": [
       "Output()"
      ]
     },
     "metadata": {},
     "output_type": "display_data"
    }
   ],
   "source": [
    "import ipywidgets as widgets #import the widgets\n",
    "from IPython.display import display \n",
    "from ipywidgets import Dropdown\n",
    "\n",
    "cement_input = widgets.FloatText(description='Cement')\n",
    "blast_input = widgets.FloatText(description='Blast Furnace Slag')\n",
    "fly_input = widgets.FloatText(description='Fly Ash',)\n",
    "water_input = widgets.FloatText(description='Water',)\n",
    "superplastic_input = widgets.FloatText(description='Superplasticizer')\n",
    "coarse_input = widgets.FloatText(description='Coarse Aggregate')\n",
    "fine_input = widgets.FloatText(description='Fine Aggregate')\n",
    "age_input = widgets.FloatText(description='Age')\n",
    "\n",
    "#make dropdown to select which kind of prediction model user wants to use. Default is linear regression\n",
    "\n",
    "select_model = widgets.ToggleButtons(\n",
    "    options=['Linear Regression', 'Decision Trees', 'Random Forest'],\n",
    "    description='Model:',\n",
    "    disabled=False,\n",
    "    button_style='', # 'success', 'info', 'warning', 'danger' or ''\n",
    "#     icons=['check'] * 3\n",
    ")\n",
    "\n",
    "predict_button = widgets.Button(description='Predict') # Create a button widget to trigger the prediction\n",
    "\n",
    "output = widgets.Output() # Create an output widget to display the predicted compressive strength\n",
    "\n",
    "# Define a function to make the prediction\n",
    "def make_prediction(button):\n",
    "    # Get the input values\n",
    "    \n",
    "    #make global variables so that they can be accessed in the next cells\n",
    "    global cement\n",
    "    global blast\n",
    "    global fly\n",
    "    global water\n",
    "    global superplastic\n",
    "    global coarse\n",
    "    global fine\n",
    "    global age\n",
    "   \n",
    "    cement = cement_input.value\n",
    "    blast = blast_input.value\n",
    "    fly = fly_input.value\n",
    "    water = water_input.value\n",
    "    superplastic = superplastic_input.value\n",
    "    coarse = coarse_input.value\n",
    "    fine = fine_input.value\n",
    "    age = age_input.value\n",
    "    \n",
    "    global prediction #create a prediction variable on global scope\n",
    "    \n",
    "    # Display the prediction\n",
    "    with output:\n",
    "        output.clear_output()\n",
    "        if(select_model.value == 'Linear Regression'): #aka use linear regression\n",
    "            prediction = lr_predict_strength(cement,blast,fly,water,superplastic,coarse,fine,age)\n",
    "            print('Predicted Strength with Linear Regression: ',prediction,'MPa')\n",
    "        elif (select_model.value == 'Decision Trees'):\n",
    "            prediction = dt_predict_strength(cement,blast,fly,water,superplastic,coarse,fine,age)\n",
    "            print('Predicted Strength with Decision Trees: ', prediction,'MPa')\n",
    "        else:\n",
    "            prediction = rf_predict_strength(cement,blast,fly,water,superplastic,coarse,fine,age)\n",
    "            print('Predicted Strength with Random Forests: ',prediction,'MPa')\n",
    "    \n",
    "# Link the button to the prediction function\n",
    "predict_button.on_click(make_prediction)\n",
    "\n",
    "# Display the widgets\n",
    "display(cement_input, blast_input, fly_input, water_input, superplastic_input, coarse_input, fine_input, age_input)\n",
    "display(select_model)\n",
    "display(predict_button)\n",
    "display(output)\n"
   ]
  },
  {
   "cell_type": "code",
   "execution_count": 10,
   "id": "6ea1de6c",
   "metadata": {},
   "outputs": [
    {
     "name": "stdout",
     "output_type": "stream",
     "text": [
      "Press this button if you would like to add this data to a test database. (Plot only works on notebook)\n"
     ]
    },
    {
     "data": {
      "application/vnd.jupyter.widget-view+json": {
       "model_id": "0ee76ef1c24d4ca3a5ae6419b81260f8",
       "version_major": 2,
       "version_minor": 0
      },
      "text/plain": [
       "Button(description='Add Data', style=ButtonStyle())"
      ]
     },
     "metadata": {},
     "output_type": "display_data"
    },
    {
     "data": {
      "application/vnd.jupyter.widget-view+json": {
       "model_id": "d9fbab4e11e840498808460609a58657",
       "version_major": 2,
       "version_minor": 0
      },
      "text/plain": [
       "Button(description='Plot', style=ButtonStyle())"
      ]
     },
     "metadata": {},
     "output_type": "display_data"
    },
    {
     "data": {
      "application/vnd.jupyter.widget-view+json": {
       "model_id": "824bacdfaadc43808514c2c1d247c7ee",
       "version_major": 2,
       "version_minor": 0
      },
      "text/plain": [
       "Output()"
      ]
     },
     "metadata": {},
     "output_type": "display_data"
    },
    {
     "data": {
      "image/png": "[encoded data removed]",
      "text/plain": [
       "<Figure size 1000x700 with 1 Axes>"
      ]
     },
     "metadata": {},
     "output_type": "display_data"
    }
   ],
   "source": [
    "test_data = pd.DataFrame(columns=['Cement', 'BlastFurnaceSlag', 'FlyAsh', 'Water', 'Superplasticizer', 'CoarseAggregate', 'FineAggregate', 'Age', 'CC_Strength'])\n",
    "\n",
    "print(\"Press this button if you would like to add this data to a test database. (Plot only works on notebook)\")\n",
    "add_data_button = widgets.Button(description='Add Data') # Create a button widget to trigger the prediction\n",
    "plot_data_button = widgets.Button(description='Plot')\n",
    "\n",
    "def add_new_data(b): #function to add new data to the database\n",
    "    global test_data \n",
    "    new_row = {'Cement': cement, 'BlastFurnaceSlag': blast, 'FlyAsh': fly, 'Water': water, 'Superplasticizer': superplastic, 'CoarseAggregate': coarse, 'FineAggregate': fine, 'Age': age, 'CC_Strength': prediction}\n",
    "    test_data = pd.concat([test_data, pd.DataFrame([new_row])], ignore_index=True)\n",
    "    with output:\n",
    "        output.clear_output()\n",
    "        display(test_data)\n",
    "        \n",
    "def plot_data(b):\n",
    "    fig, ax = plt.subplots(figsize=(10,7))\n",
    "    ax.hist(test_data['CC_Strength'], bins=20)\n",
    "    ax.set_xlabel('Compressive Strength (MPa)')\n",
    "    ax.set_ylabel('Frequency')\n",
    "    ax.set_title('Histogram of Test Data')\n",
    "    plt.show()\n",
    "    \n",
    "output = widgets.Output()        \n",
    "\n",
    "add_data_button.on_click(add_new_data)\n",
    "plot_data_button.on_click(plot_data)\n",
    "\n",
    "display(add_data_button)\n",
    "display(plot_data_button)\n",
    "display(output)"
   ]
  },
  {
   "cell_type": "code",
   "execution_count": null,
   "id": "a20d12bd",
   "metadata": {},
   "outputs": [],
   "source": []
  }
 ],
 "metadata": {
  "kernelspec": {
   "display_name": "Python 3 (ipykernel)",
   "language": "python",
   "name": "python3"
  },
  "language_info": {
   "codemirror_mode": {
    "name": "ipython",
    "version": 3
   },
   "file_extension": ".py",
   "mimetype": "text/x-python",
   "name": "python",
   "nbconvert_exporter": "python",
   "pygments_lexer": "ipython3",
   "version": "3.9.16"
  }
 },
 "nbformat": 4,
 "nbformat_minor": 5
}
